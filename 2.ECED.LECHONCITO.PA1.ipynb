{
 "cells": [
  {
   "cell_type": "markdown",
   "id": "29123ee3-cd2c-4e03-a1bd-aca7e40a3e83",
   "metadata": {},
   "source": [
    "ALPHABET SOUP PROBLEM"
   ]
  },
  {
   "cell_type": "code",
   "execution_count": null,
   "id": "dfb3c535-b6fd-4ccd-a3ce-f01bffd44e87",
   "metadata": {},
   "outputs": [],
   "source": [
    "#Prompting user to enter letters for the alphabet soup\n",
    "print(\"Enter letters for the alphabet soup\")\n",
    "raw = input()\n",
    "\n",
    "#Code for when the user where to put a comma in between the program will still work\n",
    "no_comma = raw.replace(',', \"\")\n",
    "#Code for when the user where to put a space in between the program will still work\n",
    "no_space = no_comma.replace(' ', \"\")\n",
    "\n",
    "#Code to lowercase all alphabets in the chance that the user were to put uppercase letters\n",
    "alphabet_soup = [letter.lower() for letter in no_space]\n",
    "\n",
    "#Outputting of sorted alphabets\n",
    "print(sorted(alphabet_soup))\n"
   ]
  },
  {
   "cell_type": "markdown",
   "id": "84b446e3-c5b5-42e1-9fbf-1c599d4a7177",
   "metadata": {},
   "source": [
    "EMOTICON PROBLEM"
   ]
  },
  {
   "cell_type": "code",
   "execution_count": null,
   "id": "b64a74c8-85b9-430d-82f9-f6499038921e",
   "metadata": {},
   "outputs": [],
   "source": [
    "#Prompting user to enter their emotion\n",
    "print(\"Enter how you feel\")\n",
    "emotion = input()\n",
    "\n",
    "#If the word \"Smile\" is detected by the system it will be replaced by \":)\"\n",
    "if \"Smile\" in emotion:\n",
    "    emoticon = emotion.replace(\"Smile\", \":)\")\n",
    "    print(emoticon)\n",
    "#If the word \"Grin\" is detected by the system it will be replaced by \":D\"\n",
    "if \"Grin\" in emotion:\n",
    "    emoticon = emotion.replace(\"Grin\", \":D\")\n",
    "    print(emoticon)\n",
    "#If the word \"Sad\" is detected by the system it will be replaced by \":((\"\n",
    "if \"Sad\" in emotion:\n",
    "    emoticon = emotion.replace(\"Sad\", \":((\")\n",
    "    print(emoticon)\n",
    "#If the word \"Mad\" is detected by the system it will be replaced by \">:(\"\n",
    "if \"Mad\" in emotion:\n",
    "    emoticon = emotion.replace(\"Mad\", \">:(\")\n",
    "    print(emoticon)"
   ]
  },
  {
   "cell_type": "markdown",
   "id": "05f48095-3156-41e7-adff-b47e7b35c0cf",
   "metadata": {},
   "source": [
    "UNPACKING LIST PROBLEM"
   ]
  },
  {
   "cell_type": "code",
   "execution_count": null,
   "id": "71caf1ac-4745-437e-8240-44a39338623e",
   "metadata": {},
   "outputs": [],
   "source": [
    "#Prompt user to input their desired list and seperated by a comma\n",
    "print(\"Enter your list seperated by a comma\")\n",
    "writeyourcodehere = input()\n",
    "\n",
    "#When the element is seperated by a comma it will split into two variables the first element stated and then the rest\n",
    "first, rest = writeyourcodehere.split(',', 1)\n",
    "#The rest of the elements are then combined together forming the middle except for one which will be the last element in the list\n",
    "middle, last = rest.rsplit(',', 1)\n",
    "\n",
    "#Outputting the three lists \"First, Middle, Last\"\n",
    "print(\"First: \", first)\n",
    "print(\"Middle: \", middle)\n",
    "print(\"Last: \", last)"
   ]
  }
 ],
 "metadata": {
  "kernelspec": {
   "display_name": "Python 3 (ipykernel)",
   "language": "python",
   "name": "python3"
  },
  "language_info": {
   "codemirror_mode": {
    "name": "ipython",
    "version": 3
   },
   "file_extension": ".py",
   "mimetype": "text/x-python",
   "name": "python",
   "nbconvert_exporter": "python",
   "pygments_lexer": "ipython3",
   "version": "3.12.4"
  }
 },
 "nbformat": 4,
 "nbformat_minor": 5
}
